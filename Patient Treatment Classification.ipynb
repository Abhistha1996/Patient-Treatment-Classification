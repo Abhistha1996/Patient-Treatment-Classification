{
 "cells": [
  {
   "cell_type": "markdown",
   "metadata": {},
   "source": [
    "# Importing Important Libraries"
   ]
  },
  {
   "cell_type": "code",
   "execution_count": 1,
   "metadata": {},
   "outputs": [],
   "source": [
    "import pandas as pd\n",
    "import numpy as np\n",
    "from pandas.plotting import scatter_matrix\n",
    "import matplotlib.pyplot as plt\n",
    "from sklearn import model_selection\n",
    "from sklearn.metrics import classification_report\n",
    "from sklearn.metrics import confusion_matrix\n",
    "from sklearn.metrics import accuracy_score\n",
    "from sklearn.linear_model import LogisticRegression\n",
    "from sklearn.tree import DecisionTreeClassifier\n",
    "from sklearn.neighbors import KNeighborsClassifier\n",
    "from sklearn.discriminant_analysis import LinearDiscriminantAnalysis\n",
    "from sklearn.naive_bayes import GaussianNB\n",
    "from sklearn.svm import SVC\n",
    "import seaborn as sns"
   ]
  },
  {
   "cell_type": "code",
   "execution_count": 2,
   "metadata": {},
   "outputs": [
    {
     "data": {
      "text/plain": [
       "HAEMATOCRIT     float64\n",
       "HAEMOGLOBINS    float64\n",
       "ERYTHROCYTE     float64\n",
       "LEUCOCYTE       float64\n",
       "THROMBOCYTE       int64\n",
       "MCH             float64\n",
       "MCHC            float64\n",
       "MCV             float64\n",
       "AGE               int64\n",
       "SEX              object\n",
       "SOURCE            int64\n",
       "dtype: object"
      ]
     },
     "execution_count": 2,
     "metadata": {},
     "output_type": "execute_result"
    }
   ],
   "source": [
    "#importing the train dataset\n",
    "patient_train  = pd.read_csv(\"https://raw.githubusercontent.com/dphi-official/Datasets/master/patient_treat_class/training_set_label.csv\" )\n",
    "patient_train.dtypes"
   ]
  },
  {
   "cell_type": "code",
   "execution_count": 3,
   "metadata": {},
   "outputs": [],
   "source": [
    "#importing the test dataset\n",
    "patient_test = pd.read_csv('https://raw.githubusercontent.com/dphi-official/Datasets/master/patient_treat_class/testing_set_label.csv')"
   ]
  },
  {
   "cell_type": "code",
   "execution_count": 4,
   "metadata": {},
   "outputs": [
    {
     "data": {
      "text/plain": [
       "<matplotlib.axes._subplots.AxesSubplot at 0x213380a9430>"
      ]
     },
     "execution_count": 4,
     "metadata": {},
     "output_type": "execute_result"
    },
    {
     "data": {
      "image/png": "[encoded data removed]",
      "text/plain": [
       "<Figure size 432x288 with 1 Axes>"
      ]
     },
     "metadata": {
      "needs_background": "light"
     },
     "output_type": "display_data"
    }
   ],
   "source": [
    "#checking for data imbalance\n",
    "patient_test\n",
    "sns.countplot(x=\"SOURCE\",data=patient_train)"
   ]
  },
  {
   "cell_type": "code",
   "execution_count": 6,
   "metadata": {},
   "outputs": [],
   "source": [
    "#Feature Engineering on the SEX Column\n",
    "def f(r):\n",
    "    if r == 'M':\n",
    "        return 1\n",
    "    else:\n",
    "        return 0\n",
    "\n",
    "patient_train.SEX = patient_train.SEX.apply(f)\n",
    "patient_test.SEX = patient_test.SEX.apply(f)"
   ]
  },
  {
   "cell_type": "code",
   "execution_count": 9,
   "metadata": {
    "scrolled": true
   },
   "outputs": [
    {
     "data": {
      "text/html": [
       "<div>\n",
       "<style scoped>\n",
       "    .dataframe tbody tr th:only-of-type {\n",
       "        vertical-align: middle;\n",
       "    }\n",
       "\n",
       "    .dataframe tbody tr th {\n",
       "        vertical-align: top;\n",
       "    }\n",
       "\n",
       "    .dataframe thead th {\n",
       "        text-align: right;\n",
       "    }\n",
       "</style>\n",
       "<table border=\"1\" class=\"dataframe\">\n",
       "  <thead>\n",
       "    <tr style=\"text-align: right;\">\n",
       "      <th></th>\n",
       "      <th>HAEMATOCRIT</th>\n",
       "      <th>HAEMOGLOBINS</th>\n",
       "      <th>ERYTHROCYTE</th>\n",
       "      <th>LEUCOCYTE</th>\n",
       "      <th>THROMBOCYTE</th>\n",
       "      <th>MCH</th>\n",
       "      <th>MCHC</th>\n",
       "      <th>MCV</th>\n",
       "      <th>AGE</th>\n",
       "      <th>SEX</th>\n",
       "    </tr>\n",
       "    <tr>\n",
       "      <th>SOURCE</th>\n",
       "      <th></th>\n",
       "      <th></th>\n",
       "      <th></th>\n",
       "      <th></th>\n",
       "      <th></th>\n",
       "      <th></th>\n",
       "      <th></th>\n",
       "      <th></th>\n",
       "      <th></th>\n",
       "      <th></th>\n",
       "    </tr>\n",
       "  </thead>\n",
       "  <tbody>\n",
       "    <tr>\n",
       "      <th>0</th>\n",
       "      <td>1992</td>\n",
       "      <td>1992</td>\n",
       "      <td>1992</td>\n",
       "      <td>1992</td>\n",
       "      <td>1992</td>\n",
       "      <td>1992</td>\n",
       "      <td>1992</td>\n",
       "      <td>1992</td>\n",
       "      <td>1992</td>\n",
       "      <td>1992</td>\n",
       "    </tr>\n",
       "    <tr>\n",
       "      <th>1</th>\n",
       "      <td>1317</td>\n",
       "      <td>1317</td>\n",
       "      <td>1317</td>\n",
       "      <td>1317</td>\n",
       "      <td>1317</td>\n",
       "      <td>1317</td>\n",
       "      <td>1317</td>\n",
       "      <td>1317</td>\n",
       "      <td>1317</td>\n",
       "      <td>1317</td>\n",
       "    </tr>\n",
       "  </tbody>\n",
       "</table>\n",
       "</div>"
      ],
      "text/plain": [
       "        HAEMATOCRIT  HAEMOGLOBINS  ERYTHROCYTE  LEUCOCYTE  THROMBOCYTE   MCH  \\\n",
       "SOURCE                                                                         \n",
       "0              1992          1992         1992       1992         1992  1992   \n",
       "1              1317          1317         1317       1317         1317  1317   \n",
       "\n",
       "        MCHC   MCV   AGE   SEX  \n",
       "SOURCE                          \n",
       "0       1992  1992  1992  1992  \n",
       "1       1317  1317  1317  1317  "
      ]
     },
     "execution_count": 9,
     "metadata": {},
     "output_type": "execute_result"
    }
   ],
   "source": [
    "patient_train.groupby('SOURCE').agg('count') #understanding the counts of 1s and 0s in the target feature==> Definitely imbalanced"
   ]
  },
  {
   "cell_type": "code",
   "execution_count": 10,
   "metadata": {},
   "outputs": [
    {
     "data": {
      "text/plain": [
       "\"\\n# Shuffle the Dataset.\\nshuffled_df = df.sample(frac=1,random_state=4)\\n\\n# Put all the minority class (1s) in a separate dataset.\\nminority_class = shuffled_df.loc[shuffled_df['target'] == 1]\\n\\n#Randomly select 20000 from the majority class (0s)\\nmajority_class = shuffled_df.loc[shuffled_df['target'] == 0].sample(n=20000,random_state=42)\\n\\n# Concatenate both dataframes again\\nnormalized_df = pd.concat([minority_class, majority_class])\\n\\n#plot the dataset after the undersampling\\nsns.countplot('target', data=normalized_df)\\nplt.title('Balanced Classes')\""
      ]
     },
     "execution_count": 10,
     "metadata": {},
     "output_type": "execute_result"
    }
   ],
   "source": [
    "#code for undersampling\n",
    "\n",
    "\"\"\"\n",
    "# Shuffle the Dataset.\n",
    "shuffled_df = df.sample(frac=1,random_state=4)\n",
    "\n",
    "# Put all the minority class (1s) in a separate dataset.\n",
    "minority_class = shuffled_df.loc[shuffled_df['target'] == 1]\n",
    "\n",
    "#Randomly select 670 from the majority class (0s)\n",
    "majority_class = shuffled_df.loc[shuffled_df['target'] == 0].sample(n=670,random_state=42)\n",
    "\n",
    "# Concatenate both dataframes again\n",
    "normalized_df = pd.concat([minority_class, majority_class])\n",
    "\n",
    "#plot the dataset after the undersampling\n",
    "sns.countplot('target', data=normalized_df)\n",
    "plt.title('Balanced Classes')\"\"\""
   ]
  },
  {
   "cell_type": "code",
   "execution_count": 11,
   "metadata": {},
   "outputs": [],
   "source": [
    "#Defining the dependant and independant variables\n",
    "\n",
    "X = patient_train.drop('SOURCE', axis = 1)\n",
    "Y = patient_train['SOURCE']\n",
    "#Y=np.log1p(Y)"
   ]
  },
  {
   "cell_type": "code",
   "execution_count": 12,
   "metadata": {},
   "outputs": [],
   "source": [
    "#Using SMOTE for oversampling the minority class\n",
    "from imblearn.over_sampling import SMOTE\n",
    "\n",
    "X_resampled, y_resampled = SMOTE().fit_sample(X, Y)"
   ]
  },
  {
   "cell_type": "code",
   "execution_count": 13,
   "metadata": {},
   "outputs": [
    {
     "data": {
      "text/plain": [
       "0.41693001124094026"
      ]
     },
     "execution_count": 13,
     "metadata": {},
     "output_type": "execute_result"
    }
   ],
   "source": [
    "patient_train['SOURCE'].skew()"
   ]
  },
  {
   "cell_type": "code",
   "execution_count": 14,
   "metadata": {},
   "outputs": [],
   "source": [
    "#Splitting the train and test data and scaling respectively\n",
    "\n",
    "from sklearn.preprocessing import StandardScaler\n",
    "scaler = StandardScaler() \n",
    "X_train, X_test,Y_train, Y_test=model_selection.train_test_split(X_resampled,y_resampled,test_size=0.2,random_state=42)\n",
    "X_train=scaler.fit_transform(X_train)\n",
    "X_test=scaler.fit_transform(X_test)"
   ]
  },
  {
   "cell_type": "code",
   "execution_count": 15,
   "metadata": {
    "scrolled": true
   },
   "outputs": [
    {
     "name": "stdout",
     "output_type": "stream",
     "text": [
      "LR: 0.697527 (0.020768)\n",
      "LDA: 0.696270 (0.019606)\n",
      "LDA: 0.696270 (0.019606)\n",
      "KNN: 0.722631 (0.021306)\n",
      "CART: 0.683428 (0.026400)\n",
      "NB: 0.673365 (0.022717)\n",
      "SVM: 0.745851 (0.026081)\n"
     ]
    }
   ],
   "source": [
    "#spot check algorithms\n",
    "\"\"\"import warnings\n",
    "warnings.filterwarnings(\"ignore\")\"\"\"\n",
    "\n",
    "models=[]\n",
    "models.append(('LR',LogisticRegression()))\n",
    "models.append(('LDA',LinearDiscriminantAnalysis()))\n",
    "models.append(('LDA',LinearDiscriminantAnalysis()))\n",
    "models.append(('KNN',KNeighborsClassifier()))\n",
    "models.append(('CART',DecisionTreeClassifier()))\n",
    "models.append(('NB',GaussianNB()))\n",
    "models.append(('SVM',SVC()))\n",
    "\n",
    "#evaluate each model in turn\n",
    "results=[]\n",
    "names=[]\n",
    "for name, model in models:\n",
    "    kfold = model_selection.KFold(n_splits=10, random_state=42, shuffle=True)\n",
    "    cv_results=model_selection.cross_val_score(model, X_train, Y_train, cv=kfold, scoring='accuracy')\n",
    "    results.append(cv_results)\n",
    "    names.append(name)\n",
    "    msg=\"%s: %f (%f)\" %  (name, cv_results.mean(), cv_results.std())\n",
    "    print(msg)"
   ]
  },
  {
   "cell_type": "code",
   "execution_count": 16,
   "metadata": {},
   "outputs": [],
   "source": [
    "#Selecting SVM For highest Accuracy\n",
    "from sklearn import svm\n",
    "clf = svm.SVC(kernel='rbf')\n",
    "clf.fit(X_train, Y_train) \n",
    "\n",
    "Y_pred = clf.predict(X_test)"
   ]
  },
  {
   "cell_type": "code",
   "execution_count": 17,
   "metadata": {},
   "outputs": [
    {
     "name": "stdout",
     "output_type": "stream",
     "text": [
      "              precision    recall  f1-score   support\n",
      "\n",
      "           0       0.72      0.76      0.74       415\n",
      "           1       0.72      0.67      0.70       382\n",
      "\n",
      "    accuracy                           0.72       797\n",
      "   macro avg       0.72      0.72      0.72       797\n",
      "weighted avg       0.72      0.72      0.72       797\n",
      "\n"
     ]
    },
    {
     "data": {
      "text/plain": [
       "<matplotlib.axes._subplots.AxesSubplot at 0x21338b66df0>"
      ]
     },
     "execution_count": 17,
     "metadata": {},
     "output_type": "execute_result"
    },
    {
     "data": {
      "image/png": "[encoded data removed]",
      "text/plain": [
       "<Figure size 432x288 with 2 Axes>"
      ]
     },
     "metadata": {
      "needs_background": "light"
     },
     "output_type": "display_data"
    }
   ],
   "source": [
    "#Printing the classification report and the confusion Matrix\n",
    "print(classification_report(Y_test,Y_pred))\n",
    "cnf=confusion_matrix(Y_test,Y_pred)\n",
    "sns.heatmap(cnf,annot=True)"
   ]
  },
  {
   "cell_type": "code",
   "execution_count": 18,
   "metadata": {},
   "outputs": [],
   "source": [
    "#Scaling the independant variable from the patient_train dataset\n",
    "from sklearn.preprocessing import StandardScaler\n",
    "scaler = StandardScaler() \n",
    "Xt= patient_test\n",
    "Xt=scaler.fit_transform(Xt)"
   ]
  },
  {
   "cell_type": "code",
   "execution_count": 20,
   "metadata": {},
   "outputs": [],
   "source": [
    "#fitting the dependant and independant variables from the patienr_train dataset\n",
    "X_resampled=scaler.fit_transform(X_resampled)\n",
    "clf1 = svm.SVC(kernel='rbf')\n",
    "clf1.fit(X_resampled, y_resampled)\n",
    "\n",
    "ypred = clf.predict(Xt)"
   ]
  },
  {
   "cell_type": "code",
   "execution_count": 22,
   "metadata": {},
   "outputs": [],
   "source": [
    "#string the output in the test dataset\n",
    "patient_test[\"prediction\"]=ypred"
   ]
  },
  {
   "cell_type": "code",
   "execution_count": 23,
   "metadata": {},
   "outputs": [],
   "source": [
    "#creating a new dataframe for storing the predictions\n",
    "o2=patient_test[\"prediction\"]"
   ]
  },
  {
   "cell_type": "code",
   "execution_count": 24,
   "metadata": {},
   "outputs": [
    {
     "data": {
      "text/plain": [
       "<matplotlib.axes._subplots.AxesSubplot at 0x21338aedc10>"
      ]
     },
     "execution_count": 24,
     "metadata": {},
     "output_type": "execute_result"
    },
    {
     "data": {
      "image/png": "[encoded data removed]",
      "text/plain": [
       "<Figure size 432x288 with 1 Axes>"
      ]
     },
     "metadata": {
      "needs_background": "light"
     },
     "output_type": "display_data"
    }
   ],
   "source": [
    "#Visualizing the Count of the output prediction\n",
    "sns.countplot(x=\"prediction\",data=patient_test)"
   ]
  },
  {
   "cell_type": "code",
   "execution_count": 25,
   "metadata": {},
   "outputs": [],
   "source": [
    "#storing the output in the desireed csv format\n",
    "o2.to_csv('patient_predictions.csv') #Storing in a CSV file"
   ]
  }
 ],
 "metadata": {
  "kernelspec": {
   "display_name": "Python 3",
   "language": "python",
   "name": "python3"
  },
  "language_info": {
   "codemirror_mode": {
    "name": "ipython",
    "version": 3
   },
   "file_extension": ".py",
   "mimetype": "text/x-python",
   "name": "python",
   "nbconvert_exporter": "python",
   "pygments_lexer": "ipython3",
   "version": "3.8.3"
  }
 },
 "nbformat": 4,
 "nbformat_minor": 4
}
